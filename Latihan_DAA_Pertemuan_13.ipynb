{
  "nbformat": 4,
  "nbformat_minor": 0,
  "metadata": {
    "colab": {
      "provenance": [],
      "authorship_tag": "ABX9TyPXZltoA6E53AlILL6Db5nw",
      "include_colab_link": true
    },
    "kernelspec": {
      "name": "python3",
      "display_name": "Python 3"
    },
    "language_info": {
      "name": "python"
    }
  },
  "cells": [
    {
      "cell_type": "markdown",
      "metadata": {
        "id": "view-in-github",
        "colab_type": "text"
      },
      "source": [
        "<a href=\"https://colab.research.google.com/github/FerdyAgustiann/Ferdy/blob/main/Latihan_DAA_Pertemuan_13.ipynb\" target=\"_parent\"><img src=\"https://colab.research.google.com/assets/colab-badge.svg\" alt=\"Open In Colab\"/></a>"
      ]
    },
    {
      "cell_type": "code",
      "execution_count": 1,
      "metadata": {
        "id": "G9rnThVTuiK4"
      },
      "outputs": [],
      "source": [
        "def bfs(graph, start):\n",
        "  visited = []\n",
        "  queue = []\n",
        "  queue = [start]\n",
        "  while queue:\n",
        "    node = queue.pop(0)\n",
        "    if node not in visited:\n",
        "      visited.append(node)\n",
        "      neighbours = graph[node]\n",
        "      for neighbour in neighbours:\n",
        "        queue.append(neighbour)\n",
        "  return visited"
      ]
    },
    {
      "cell_type": "code",
      "source": [
        "graph = {'Amin' : ['Wasim', 'Nick', 'Mike'],\n",
        "         'Wasim' : ['Imran', 'Amin'],\n",
        "         'Imran' : ['Wasim', 'Faras'],\n",
        "         'Faras' : ['Imran'],\n",
        "         'Mike' : ['Amin'],\n",
        "         'Nick' : ['Amin']}"
      ],
      "metadata": {
        "id": "eqGp4pb1uyRh"
      },
      "execution_count": 2,
      "outputs": []
    },
    {
      "cell_type": "code",
      "source": [
        "# O Amin ---------------------------\n",
        "# |                |                |\n",
        "# O Wasim       O Nick           O Mike\n",
        "# |\n",
        "# O Imran\n",
        "# |\n",
        "# O Faras\n",
        "\n",
        "bfs(graph, 'Amin')"
      ],
      "metadata": {
        "colab": {
          "base_uri": "https://localhost:8080/"
        },
        "id": "d12vtbvfu0uO",
        "outputId": "cba8b0c9-8ce2-49b6-d85e-7fabf7805aa9"
      },
      "execution_count": 3,
      "outputs": [
        {
          "output_type": "execute_result",
          "data": {
            "text/plain": [
              "['Amin', 'Wasim', 'Nick', 'Mike', 'Imran', 'Faras']"
            ]
          },
          "metadata": {},
          "execution_count": 3
        }
      ]
    },
    {
      "cell_type": "code",
      "source": [
        "bfs(graph, 'Wasim')"
      ],
      "metadata": {
        "colab": {
          "base_uri": "https://localhost:8080/"
        },
        "id": "VEAI353Tu34D",
        "outputId": "cb1919ed-2c96-4f75-c9d2-2dd684bd1fcb"
      },
      "execution_count": 4,
      "outputs": [
        {
          "output_type": "execute_result",
          "data": {
            "text/plain": [
              "['Wasim', 'Imran', 'Amin', 'Faras', 'Nick', 'Mike']"
            ]
          },
          "metadata": {},
          "execution_count": 4
        }
      ]
    },
    {
      "cell_type": "code",
      "source": [
        "bfs(graph, 'Imran')"
      ],
      "metadata": {
        "colab": {
          "base_uri": "https://localhost:8080/"
        },
        "id": "whFmuPzSu8TI",
        "outputId": "8a409313-522b-4ceb-be37-f84b587a5ec4"
      },
      "execution_count": 5,
      "outputs": [
        {
          "output_type": "execute_result",
          "data": {
            "text/plain": [
              "['Imran', 'Wasim', 'Faras', 'Amin', 'Nick', 'Mike']"
            ]
          },
          "metadata": {},
          "execution_count": 5
        }
      ]
    },
    {
      "cell_type": "code",
      "source": [
        "bfs(graph, 'Faras')"
      ],
      "metadata": {
        "colab": {
          "base_uri": "https://localhost:8080/"
        },
        "id": "Aue8aAgsu-01",
        "outputId": "c103995d-6689-4a97-8e10-d734c5a2ff25"
      },
      "execution_count": 6,
      "outputs": [
        {
          "output_type": "execute_result",
          "data": {
            "text/plain": [
              "['Faras', 'Imran', 'Wasim', 'Amin', 'Nick', 'Mike']"
            ]
          },
          "metadata": {},
          "execution_count": 6
        }
      ]
    },
    {
      "cell_type": "code",
      "source": [
        "bfs(graph, 'Nick')"
      ],
      "metadata": {
        "colab": {
          "base_uri": "https://localhost:8080/"
        },
        "id": "2iWW3mAau_sP",
        "outputId": "5ef44124-b4d7-4608-a458-36e81b3f428b"
      },
      "execution_count": 7,
      "outputs": [
        {
          "output_type": "execute_result",
          "data": {
            "text/plain": [
              "['Nick', 'Amin', 'Wasim', 'Mike', 'Imran', 'Faras']"
            ]
          },
          "metadata": {},
          "execution_count": 7
        }
      ]
    },
    {
      "cell_type": "code",
      "source": [
        "bfs(graph, 'Mike')"
      ],
      "metadata": {
        "colab": {
          "base_uri": "https://localhost:8080/"
        },
        "id": "X9PXJXFvvCE0",
        "outputId": "82028053-fc36-4344-b22c-46d4656dd71e"
      },
      "execution_count": 8,
      "outputs": [
        {
          "output_type": "execute_result",
          "data": {
            "text/plain": [
              "['Mike', 'Amin', 'Wasim', 'Nick', 'Imran', 'Faras']"
            ]
          },
          "metadata": {},
          "execution_count": 8
        }
      ]
    },
    {
      "cell_type": "code",
      "source": [
        "graph2 = {'Rektor' : ['Warek 1', 'Warek 2'],\n",
        "          'Warek 1' : ['Rektor'],\n",
        "          'Warek 2' : ['Rektor', 'Kaprodi 1', 'Kaprodi 2', 'Kaprodi 3'],\n",
        "          'Kaprodi 1' : ['Warek 2', 'Dosen A', 'Dosen B', 'Dosen C'],\n",
        "          'Dosen A' : ['Kaprodi 1'],\n",
        "          'Dosen B' : ['Kaprodi 1'],\n",
        "          'Dosen C' : ['Kaprodi 1'],\n",
        "          'Kaprodi 2' : ['Warek 2', 'Dosen D', 'Dosen E'],\n",
        "          'Dosen D' : ['Kaprodi 2'],\n",
        "          'Dosen E' : ['Kaprodi 2'],\n",
        "          'Kaprodi 3' : ['Warek 2', 'Dosen F', 'Dosen G'],\n",
        "          'Dosen F' : ['Kaprodi 3'],\n",
        "          'Dosen G' : ['Kaprodi 3']}"
      ],
      "metadata": {
        "id": "823qtR_0vEoj"
      },
      "execution_count": 9,
      "outputs": []
    },
    {
      "cell_type": "code",
      "source": [
        "bfs(graph2, 'Rektor')"
      ],
      "metadata": {
        "colab": {
          "base_uri": "https://localhost:8080/"
        },
        "id": "an7gkN-OvHJb",
        "outputId": "dcf455ff-4481-4fdf-d912-abcd9af86241"
      },
      "execution_count": 10,
      "outputs": [
        {
          "output_type": "execute_result",
          "data": {
            "text/plain": [
              "['Rektor',\n",
              " 'Warek 1',\n",
              " 'Warek 2',\n",
              " 'Kaprodi 1',\n",
              " 'Kaprodi 2',\n",
              " 'Kaprodi 3',\n",
              " 'Dosen A',\n",
              " 'Dosen B',\n",
              " 'Dosen C',\n",
              " 'Dosen D',\n",
              " 'Dosen E',\n",
              " 'Dosen F',\n",
              " 'Dosen G']"
            ]
          },
          "metadata": {},
          "execution_count": 10
        }
      ]
    },
    {
      "cell_type": "code",
      "source": [
        "bfs(graph2, 'Kaprodi 2')"
      ],
      "metadata": {
        "colab": {
          "base_uri": "https://localhost:8080/"
        },
        "id": "y8M3Bgw9vJXo",
        "outputId": "2b866fac-203e-4587-8c44-e9a1b02d15eb"
      },
      "execution_count": 11,
      "outputs": [
        {
          "output_type": "execute_result",
          "data": {
            "text/plain": [
              "['Kaprodi 2',\n",
              " 'Warek 2',\n",
              " 'Dosen D',\n",
              " 'Dosen E',\n",
              " 'Rektor',\n",
              " 'Kaprodi 1',\n",
              " 'Kaprodi 3',\n",
              " 'Warek 1',\n",
              " 'Dosen A',\n",
              " 'Dosen B',\n",
              " 'Dosen C',\n",
              " 'Dosen F',\n",
              " 'Dosen G']"
            ]
          },
          "metadata": {},
          "execution_count": 11
        }
      ]
    },
    {
      "cell_type": "code",
      "source": [
        "bfs(graph2, 'Warek 1')"
      ],
      "metadata": {
        "colab": {
          "base_uri": "https://localhost:8080/"
        },
        "id": "dk-hFt4bvLoE",
        "outputId": "d6940459-d06f-4c39-ec21-ee0bb3878608"
      },
      "execution_count": 12,
      "outputs": [
        {
          "output_type": "execute_result",
          "data": {
            "text/plain": [
              "['Warek 1',\n",
              " 'Rektor',\n",
              " 'Warek 2',\n",
              " 'Kaprodi 1',\n",
              " 'Kaprodi 2',\n",
              " 'Kaprodi 3',\n",
              " 'Dosen A',\n",
              " 'Dosen B',\n",
              " 'Dosen C',\n",
              " 'Dosen D',\n",
              " 'Dosen E',\n",
              " 'Dosen F',\n",
              " 'Dosen G']"
            ]
          },
          "metadata": {},
          "execution_count": 12
        }
      ]
    },
    {
      "cell_type": "code",
      "source": [
        "bfs(graph2, 'Dosen C')"
      ],
      "metadata": {
        "colab": {
          "base_uri": "https://localhost:8080/"
        },
        "id": "1CvZwY0kvPRq",
        "outputId": "45438d41-144c-4c45-db98-500a6528e2b4"
      },
      "execution_count": 13,
      "outputs": [
        {
          "output_type": "execute_result",
          "data": {
            "text/plain": [
              "['Dosen C',\n",
              " 'Kaprodi 1',\n",
              " 'Warek 2',\n",
              " 'Dosen A',\n",
              " 'Dosen B',\n",
              " 'Rektor',\n",
              " 'Kaprodi 2',\n",
              " 'Kaprodi 3',\n",
              " 'Warek 1',\n",
              " 'Dosen D',\n",
              " 'Dosen E',\n",
              " 'Dosen F',\n",
              " 'Dosen G']"
            ]
          },
          "metadata": {},
          "execution_count": 13
        }
      ]
    },
    {
      "cell_type": "code",
      "source": [
        "graph3 = {'0' : ['9', '7', '11'],\n",
        "          '1' : ['10', '8'],\n",
        "          '2' : ['12', '3'],\n",
        "          '3' : ['2', '4', '7'],\n",
        "          '4' : ['3'],\n",
        "          '5' : ['6'],\n",
        "          '6' : ['5', '7'],\n",
        "          '7' : ['3', '6', '11', '0'],\n",
        "          '8' : ['9', '1', '12'],\n",
        "          '9' : ['10', '8', '0'],\n",
        "          '10' : ['1', '9'],\n",
        "          '11' : ['0', '7'],\n",
        "          '12' : ['8', '2']\n",
        "          }"
      ],
      "metadata": {
        "id": "YOeGbmwEvSFx"
      },
      "execution_count": 14,
      "outputs": []
    },
    {
      "cell_type": "code",
      "source": [
        "bfs(graph3, '0')"
      ],
      "metadata": {
        "colab": {
          "base_uri": "https://localhost:8080/"
        },
        "id": "f0GNbyF4vS_6",
        "outputId": "4d97d052-a9d6-47a2-8f9f-5d990b4628b4"
      },
      "execution_count": 15,
      "outputs": [
        {
          "output_type": "execute_result",
          "data": {
            "text/plain": [
              "['0', '9', '7', '11', '10', '8', '3', '6', '1', '12', '2', '4', '5']"
            ]
          },
          "metadata": {},
          "execution_count": 15
        }
      ]
    },
    {
      "cell_type": "code",
      "source": [
        "bfs(graph3, '8')"
      ],
      "metadata": {
        "colab": {
          "base_uri": "https://localhost:8080/"
        },
        "id": "nFV91YhMvVgs",
        "outputId": "c4beb3e7-cd36-447f-dd7f-c5e2c7fa49aa"
      },
      "execution_count": 16,
      "outputs": [
        {
          "output_type": "execute_result",
          "data": {
            "text/plain": [
              "['8', '9', '1', '12', '10', '0', '2', '7', '11', '3', '6', '4', '5']"
            ]
          },
          "metadata": {},
          "execution_count": 16
        }
      ]
    },
    {
      "cell_type": "code",
      "source": [
        "bfs(graph3, '6')"
      ],
      "metadata": {
        "colab": {
          "base_uri": "https://localhost:8080/"
        },
        "id": "nLEaO_kCvYD_",
        "outputId": "b1924b8a-170f-4af1-f7ec-692b58fe3c47"
      },
      "execution_count": 17,
      "outputs": [
        {
          "output_type": "execute_result",
          "data": {
            "text/plain": [
              "['6', '5', '7', '3', '11', '0', '2', '4', '9', '12', '10', '8', '1']"
            ]
          },
          "metadata": {},
          "execution_count": 17
        }
      ]
    },
    {
      "cell_type": "code",
      "source": [
        "bfs(graph3, '12')"
      ],
      "metadata": {
        "colab": {
          "base_uri": "https://localhost:8080/"
        },
        "id": "fQZKQw6bvaf7",
        "outputId": "05dc1d60-20f7-4ee6-b3e0-728a2f80f639"
      },
      "execution_count": 18,
      "outputs": [
        {
          "output_type": "execute_result",
          "data": {
            "text/plain": [
              "['12', '8', '2', '9', '1', '3', '10', '0', '4', '7', '11', '6', '5']"
            ]
          },
          "metadata": {},
          "execution_count": 18
        }
      ]
    },
    {
      "cell_type": "code",
      "source": [
        "# DEPTH-FIRST SEARCH\n",
        "def dfs(visited, graph, node):\n",
        "  if node not in visited:\n",
        "    print(node)\n",
        "    visited.add(node)\n",
        "    for neighbour in graph[node]:\n",
        "      dfs(visited, graph, neighbour)"
      ],
      "metadata": {
        "id": "6PP2O0ICvcoG"
      },
      "execution_count": 19,
      "outputs": []
    },
    {
      "cell_type": "code",
      "source": [
        "visited = set()\n",
        "dfs(visited, graph, 'Amin')"
      ],
      "metadata": {
        "colab": {
          "base_uri": "https://localhost:8080/"
        },
        "id": "CZhPIAdcve07",
        "outputId": "a1de8562-61b8-4dcb-f784-21b508b2d5dd"
      },
      "execution_count": 20,
      "outputs": [
        {
          "output_type": "stream",
          "name": "stdout",
          "text": [
            "Amin\n",
            "Wasim\n",
            "Imran\n",
            "Faras\n",
            "Nick\n",
            "Mike\n"
          ]
        }
      ]
    },
    {
      "cell_type": "code",
      "source": [
        "visited = set()\n",
        "dfs(visited, graph, 'Wasim')"
      ],
      "metadata": {
        "colab": {
          "base_uri": "https://localhost:8080/"
        },
        "id": "F_wW761EvhLA",
        "outputId": "98995b64-2e50-41fa-c754-10f9e414fe52"
      },
      "execution_count": 21,
      "outputs": [
        {
          "output_type": "stream",
          "name": "stdout",
          "text": [
            "Wasim\n",
            "Imran\n",
            "Faras\n",
            "Amin\n",
            "Nick\n",
            "Mike\n"
          ]
        }
      ]
    },
    {
      "cell_type": "code",
      "source": [
        "visited = set()\n",
        "dfs(visited, graph, 'Faras')"
      ],
      "metadata": {
        "colab": {
          "base_uri": "https://localhost:8080/"
        },
        "id": "4bI_TEdRvldV",
        "outputId": "f5d8e4eb-6d3b-4332-de48-86be8aee947e"
      },
      "execution_count": 22,
      "outputs": [
        {
          "output_type": "stream",
          "name": "stdout",
          "text": [
            "Faras\n",
            "Imran\n",
            "Wasim\n",
            "Amin\n",
            "Nick\n",
            "Mike\n"
          ]
        }
      ]
    },
    {
      "cell_type": "code",
      "source": [
        "visited = set()\n",
        "dfs(visited, graph, 'Nick')"
      ],
      "metadata": {
        "colab": {
          "base_uri": "https://localhost:8080/"
        },
        "id": "NFibL8Dcvmj5",
        "outputId": "e3d12b51-1b49-4971-b2de-db32e85891c3"
      },
      "execution_count": 23,
      "outputs": [
        {
          "output_type": "stream",
          "name": "stdout",
          "text": [
            "Nick\n",
            "Amin\n",
            "Wasim\n",
            "Imran\n",
            "Faras\n",
            "Mike\n"
          ]
        }
      ]
    },
    {
      "cell_type": "code",
      "source": [
        "visited = set()\n",
        "dfs(visited, graph2, 'Rektor')"
      ],
      "metadata": {
        "colab": {
          "base_uri": "https://localhost:8080/"
        },
        "id": "yywqy2AOvqD-",
        "outputId": "c79e2603-2eed-4131-ec1e-da499945cb6f"
      },
      "execution_count": 24,
      "outputs": [
        {
          "output_type": "stream",
          "name": "stdout",
          "text": [
            "Rektor\n",
            "Warek 1\n",
            "Warek 2\n",
            "Kaprodi 1\n",
            "Dosen A\n",
            "Dosen B\n",
            "Dosen C\n",
            "Kaprodi 2\n",
            "Dosen D\n",
            "Dosen E\n",
            "Kaprodi 3\n",
            "Dosen F\n",
            "Dosen G\n"
          ]
        }
      ]
    },
    {
      "cell_type": "code",
      "source": [
        "visited = set()\n",
        "dfs(visited, graph2, 'Dosen B')"
      ],
      "metadata": {
        "colab": {
          "base_uri": "https://localhost:8080/"
        },
        "id": "mDqSFoA2vrLQ",
        "outputId": "e33dc962-5eaf-40da-e0c9-62774cb576bd"
      },
      "execution_count": 25,
      "outputs": [
        {
          "output_type": "stream",
          "name": "stdout",
          "text": [
            "Dosen B\n",
            "Kaprodi 1\n",
            "Warek 2\n",
            "Rektor\n",
            "Warek 1\n",
            "Kaprodi 2\n",
            "Dosen D\n",
            "Dosen E\n",
            "Kaprodi 3\n",
            "Dosen F\n",
            "Dosen G\n",
            "Dosen A\n",
            "Dosen C\n"
          ]
        }
      ]
    },
    {
      "cell_type": "code",
      "source": [
        "visited = set()\n",
        "dfs(visited, graph3, '0')"
      ],
      "metadata": {
        "colab": {
          "base_uri": "https://localhost:8080/"
        },
        "id": "2Bni8Uf9vtUb",
        "outputId": "f2b3adc2-6b2a-4f4f-de80-81984fe19910"
      },
      "execution_count": 26,
      "outputs": [
        {
          "output_type": "stream",
          "name": "stdout",
          "text": [
            "0\n",
            "9\n",
            "10\n",
            "1\n",
            "8\n",
            "12\n",
            "2\n",
            "3\n",
            "4\n",
            "7\n",
            "6\n",
            "5\n",
            "11\n"
          ]
        }
      ]
    }
  ]
}
{
  "nbformat": 4,
  "nbformat_minor": 0,
  "metadata": {
    "colab": {
      "provenance": [],
      "include_colab_link": true
    },
    "kernelspec": {
      "name": "python3",
      "display_name": "Python 3"
    },
    "language_info": {
      "name": "python"
    }
  },
  "cells": [
    {
      "cell_type": "markdown",
      "metadata": {
        "id": "view-in-github",
        "colab_type": "text"
      },
      "source": [
        "<a href=\"https://colab.research.google.com/github/mahesa1783/yuda/blob/main/M11_Algoritma_Graph.ipynb\" target=\"_parent\"><img src=\"https://colab.research.google.com/assets/colab-badge.svg\" alt=\"Open In Colab\"/></a>"
      ]
    },
    {
      "cell_type": "markdown",
      "source": [
        "*   **MEMBUAT GRAPH DENGAN ELEMEN V = {A,B,C,D,E} E = {AB,AC,BD,CD,DE}**\n",
        "*   **(ATAU BISA DISEBUT UNDIRICTED GRAPH)**\n"
      ],
      "metadata": {
        "id": "osNrB2lbBHUx"
      }
    },
    {
      "cell_type": "code",
      "source": [
        "# a ----- b\n",
        "# |       |\n",
        "# |       |\n",
        "# c ----- d ----- e"
      ],
      "metadata": {
        "id": "hzmA6TOQ2iTl"
      },
      "execution_count": null,
      "outputs": []
    },
    {
      "cell_type": "code",
      "execution_count": null,
      "metadata": {
        "colab": {
          "base_uri": "https://localhost:8080/"
        },
        "id": "z13hCnq204cI",
        "outputId": "d49326ef-ad78-4ba3-c0f6-d915feb47afa"
      },
      "outputs": [
        {
          "output_type": "stream",
          "name": "stdout",
          "text": [
            "{'a': ['b', 'c'], 'b': ['a', 'd'], 'c': ['a', 'd'], 'd': ['c', 'b', 'e'], 'e': ['d']}\n"
          ]
        }
      ],
      "source": [
        "#create the dictionary with graph element\n",
        "#buat kamus dengan elemen grafik\n",
        "graph = {\"a\" : [\"b\",\"c\"],\n",
        "         \"b\" : [\"a\",\"d\"],\n",
        "         \"c\" : [\"a\",\"d\"],\n",
        "         \"d\" : [\"c\",\"b\",\"e\"],\n",
        "         \"e\" : [\"d\"]\n",
        "         }\n",
        "#Print the graph\n",
        "#Cetak grafiknya\n",
        "print(graph)"
      ]
    },
    {
      "cell_type": "markdown",
      "source": [
        "**LATIHAN 1**"
      ],
      "metadata": {
        "id": "vFIeIQ7U3CZY"
      }
    },
    {
      "cell_type": "code",
      "source": [
        "# T ---- U ----- V\n",
        "# |              |\n",
        "# W -------------X\n",
        "# |              |\n",
        "# Z              S\n",
        "graph = {\"T\" : [\"U\",\"W\"],\n",
        "         \"U\" : [\"T\",\"V\"],\n",
        "         \"V\" : [\"U\",\"X\"],\n",
        "         \"W\" : [\"T\",\"X\",\"Z\"],\n",
        "         \"X\" : [\"V\",\"W\",\"S\"],\n",
        "         \"Z\" : [\"W\"],\n",
        "         \"S\" : [\"X\"]\n",
        "         }\n",
        "\n",
        "print(graph)"
      ],
      "metadata": {
        "colab": {
          "base_uri": "https://localhost:8080/"
        },
        "id": "rTMia-EQ21pD",
        "outputId": "a387361e-ab56-4c9b-e473-ef1183709e1a"
      },
      "execution_count": null,
      "outputs": [
        {
          "output_type": "stream",
          "name": "stdout",
          "text": [
            "{'T': ['U', 'W'], 'U': ['T', 'V'], 'V': ['U', 'X'], 'W': ['T', 'X', 'Z'], 'X': ['V', 'W', 'S'], 'Z': ['W'], 'S': ['X']}\n"
          ]
        }
      ]
    },
    {
      "cell_type": "markdown",
      "source": [
        "**LATIHAN 2**"
      ],
      "metadata": {
        "id": "kn9KL6HI3L7V"
      }
    },
    {
      "cell_type": "code",
      "source": [
        "#R-----O-----M\n",
        "#|     |     |\n",
        "#L-----P-----N\n",
        "\n",
        "graph = {\"R\" : [\"O\",\"L\"],\n",
        "         \"O\" : [\"R\",\"M\",\"P\"],\n",
        "         \"M\" : [\"O\",\"N\"],\n",
        "         \"L\" : [\"R\",\"P\"],\n",
        "         \"P\" : [\"L\",\"O\",\"N\"],\n",
        "         \"N\" : [\"M\",\"P\"]\n",
        "         }\n",
        "\n",
        "print(graph)"
      ],
      "metadata": {
        "colab": {
          "base_uri": "https://localhost:8080/"
        },
        "id": "AAPRm1DW3A3o",
        "outputId": "4a0e0909-7162-48df-a7ef-9df629406c22"
      },
      "execution_count": null,
      "outputs": [
        {
          "output_type": "stream",
          "name": "stdout",
          "text": [
            "{'R': ['O', 'L'], 'O': ['R', 'M', 'P'], 'M': ['O', 'N'], 'L': ['R', 'P'], 'P': ['L', 'O', 'N'], 'N': ['M', 'P']}\n"
          ]
        }
      ]
    },
    {
      "cell_type": "markdown",
      "source": [
        "*   **MENAMPILKAN SIMPUL PADA GRAPH**\n",
        "*   **(ATAU BISA DISEBUT JUGA SELF GRAFT)**\n",
        "\n"
      ],
      "metadata": {
        "id": "SteTvMiM6oGP"
      }
    },
    {
      "cell_type": "code",
      "source": [
        "class graph:\n",
        "  def __init__(self,gdict=None):\n",
        "    if gdict is None:\n",
        "      gdict = []\n",
        "    self.gdict = gdict\n",
        "\n",
        "  def getVertices(self):\n",
        "    return list(self.gdict.keys())\n",
        "\n",
        "graph_elements = { \"a\" : [\"b\",\"c\"],\n",
        "                   \"b\" : [\"a\",\"d\"],\n",
        "                   \"c\" : [\"a\",\"d\"],\n",
        "                   \"d\" : [\"c\",\"b\",\"e\"],\n",
        "                   \"e\" : [\"d\"]\n",
        "                   }\n",
        "g = graph(graph_elements)\n",
        "\n",
        "print(g.getVertices())"
      ],
      "metadata": {
        "colab": {
          "base_uri": "https://localhost:8080/"
        },
        "id": "bBjNWcuS3VW8",
        "outputId": "d10d03e6-3dff-434f-e47a-6d731d409954"
      },
      "execution_count": null,
      "outputs": [
        {
          "output_type": "stream",
          "name": "stdout",
          "text": [
            "['a', 'b', 'c', 'd', 'e']\n"
          ]
        }
      ]
    },
    {
      "cell_type": "markdown",
      "source": [
        "**LATIHAN 1**"
      ],
      "metadata": {
        "id": "_B_WjFua6Wvg"
      }
    },
    {
      "cell_type": "code",
      "source": [
        "class graph:\n",
        "  def __init__(self,gdict=None):\n",
        "    if gdict is None:\n",
        "      gdict = []\n",
        "    self.gdict = gdict\n",
        "\n",
        "  def getVertices(self):\n",
        "    return list(self.gdict.keys())\n",
        "\n",
        "graph_elements ={\"T\" : [\"U\",\"W\"],\n",
        "                 \"U\" : [\"T\",\"V\"],\n",
        "                 \"V\" : [\"U\",\"X\"],\n",
        "                 \"W\" : [\"T\",\"X\",\"Z\"],\n",
        "                 \"X\" : [\"V\",\"W\",\"S\"],\n",
        "                 \"Z\" : [\"W\"],\n",
        "                 \"S\" : [\"X\"]\n",
        "                 }\n",
        "g = graph(graph_elements)\n",
        "\n",
        "print(g.getVertices())"
      ],
      "metadata": {
        "colab": {
          "base_uri": "https://localhost:8080/"
        },
        "id": "DQY2nuBz6cfw",
        "outputId": "f9a5ea5c-1fad-4984-a6a7-847e80625576"
      },
      "execution_count": null,
      "outputs": [
        {
          "output_type": "stream",
          "name": "stdout",
          "text": [
            "['T', 'U', 'V', 'W', 'X', 'Z', 'S']\n"
          ]
        }
      ]
    },
    {
      "cell_type": "markdown",
      "source": [
        "**LATIHAN 2**"
      ],
      "metadata": {
        "id": "8q-xJPpw6-qy"
      }
    },
    {
      "cell_type": "code",
      "source": [
        "class graph:\n",
        "  def __init__(self,gdict=None):\n",
        "    if gdict is None:\n",
        "      gdict = []\n",
        "    self.gdict = gdict\n",
        "\n",
        "  def getVertices(self):\n",
        "    return list(self.gdict.keys())\n",
        "\n",
        "graph_elements ={\"R\" : [\"O\",\"L\"],\n",
        "                 \"O\" : [\"R\",\"M\",\"P\"],\n",
        "                 \"M\" : [\"O\",\"N\"],\n",
        "                 \"L\" : [\"R\",\"P\"],\n",
        "                 \"P\" : [\"L\",\"O\",\"N\"],\n",
        "                 \"N\" : [\"M\",\"P\"]\n",
        "                 }\n",
        "g = graph(graph_elements)\n",
        "\n",
        "print(g.getVertices())"
      ],
      "metadata": {
        "colab": {
          "base_uri": "https://localhost:8080/"
        },
        "id": "JuZ5tRJw6-W7",
        "outputId": "69f60b91-88a2-41c5-d72a-ed0e7b8ac9d4"
      },
      "execution_count": null,
      "outputs": [
        {
          "output_type": "stream",
          "name": "stdout",
          "text": [
            "['R', 'O', 'M', 'L', 'P', 'N']\n"
          ]
        }
      ]
    },
    {
      "cell_type": "markdown",
      "source": [
        "**MENAMPILKAN SUDUT PADA GRAPH**"
      ],
      "metadata": {
        "id": "Y6pfXnO07EIw"
      }
    },
    {
      "cell_type": "code",
      "source": [
        "#a-----b\n",
        "#|     |\n",
        "#|     |\n",
        "#c-----d-----e\n",
        "\n",
        "class graph:\n",
        "  def __init__(self,gdict=None):\n",
        "    if gdict is None:\n",
        "      gdict = {}\n",
        "    self.gdict = gdict\n",
        "\n",
        "  def edges(self):\n",
        "    return self.findedges()\n",
        "\n",
        "  def findedges(self):\n",
        "    edgename = []\n",
        "    for vrtx in self.gdict:\n",
        "      for nxtvrtx in self.gdict[vrtx]:\n",
        "        if {nxtvrtx, vrtx} not in edgename:\n",
        "          edgename.append({vrtx, nxtvrtx})\n",
        "    return edgename\n",
        "\n",
        "#Create the dictionary with graph element\n",
        "#Buat kamus dengan elemen grafik\n",
        "graph_elements = { \"a\" : [\"b\",\"c\"],\n",
        "                   \"b\" : [\"a\",\"d\"],\n",
        "                   \"c\" : [\"a\",\"d\"],\n",
        "                   \"d\" : [\"c\",\"b\",\"e\"],\n",
        "                   \"e\" : [\"d\"]\n",
        "                   }\n",
        "g = graph(graph_elements)\n",
        "\n",
        "print(g.edges())"
      ],
      "metadata": {
        "colab": {
          "base_uri": "https://localhost:8080/"
        },
        "id": "j9vDikdg7I0G",
        "outputId": "8dfbd5af-55b3-4d78-e5ce-d751a9cae8ae"
      },
      "execution_count": null,
      "outputs": [
        {
          "output_type": "stream",
          "name": "stdout",
          "text": [
            "[{'a', 'b'}, {'a', 'c'}, {'b', 'd'}, {'c', 'd'}, {'d', 'e'}]\n"
          ]
        }
      ]
    },
    {
      "cell_type": "markdown",
      "source": [
        "**LATIHAN 1**"
      ],
      "metadata": {
        "id": "epOQgsWU8pII"
      }
    },
    {
      "cell_type": "code",
      "source": [
        "graph_elements ={\"T\" : [\"U\",\"W\"],\n",
        "                 \"U\" : [\"T\",\"V\"],\n",
        "                 \"V\" : [\"U\",\"X\"],\n",
        "                 \"W\" : [\"T\",\"X\",\"Z\"],\n",
        "                 \"X\" : [\"V\",\"W\",\"S\"],\n",
        "                 \"Z\" : [\"W\"],\n",
        "                 \"S\" : [\"X\"]\n",
        "                 }\n",
        "g = graph(graph_elements)\n",
        "\n",
        "print(g.edges())"
      ],
      "metadata": {
        "colab": {
          "base_uri": "https://localhost:8080/"
        },
        "id": "cXCVTTEn8qsf",
        "outputId": "94a0a259-9cf1-4b20-c45d-4b0469243fb0"
      },
      "execution_count": null,
      "outputs": [
        {
          "output_type": "stream",
          "name": "stdout",
          "text": [
            "[{'T', 'U'}, {'T', 'W'}, {'V', 'U'}, {'X', 'V'}, {'X', 'W'}, {'Z', 'W'}, {'S', 'X'}]\n"
          ]
        }
      ]
    },
    {
      "cell_type": "markdown",
      "source": [
        "**LATIHAN 2**"
      ],
      "metadata": {
        "id": "Dg_hrI7F8wTn"
      }
    },
    {
      "cell_type": "code",
      "source": [
        "graph_elements ={\"R\" : [\"O\",\"L\"],\n",
        "                 \"O\" : [\"R\",\"M\",\"P\"],\n",
        "                 \"M\" : [\"O\",\"N\"],\n",
        "                 \"L\" : [\"R\",\"P\"],\n",
        "                 \"P\" : [\"L\",\"O\",\"N\"],\n",
        "                 \"N\" : [\"M\",\"P\"]\n",
        "                 }\n",
        "g = graph(graph_elements)\n",
        "\n",
        "print(g.edges())"
      ],
      "metadata": {
        "colab": {
          "base_uri": "https://localhost:8080/"
        },
        "id": "tJCIStqb8yhd",
        "outputId": "9dfe6906-ee2c-44df-d8cb-e0741314cd95"
      },
      "execution_count": null,
      "outputs": [
        {
          "output_type": "stream",
          "name": "stdout",
          "text": [
            "[{'R', 'O'}, {'R', 'L'}, {'O', 'M'}, {'O', 'P'}, {'M', 'N'}, {'P', 'L'}, {'P', 'N'}]\n"
          ]
        }
      ]
    },
    {
      "cell_type": "markdown",
      "source": [
        "**MENAMBAHKAN VERTEX/SIMPUL**"
      ],
      "metadata": {
        "id": "BMvuOK0G89Bo"
      }
    },
    {
      "cell_type": "code",
      "source": [
        "class graph:\n",
        "  def __init__(self,gdict=None):\n",
        "    if gdict is None:\n",
        "      gdict = {}\n",
        "    self.gdict = gdict\n",
        "\n",
        "  def getVertices(self):\n",
        "    return list(self.gdict.keys())\n",
        "\n",
        "  def addVertex(self, vrtx):\n",
        "    if vrtx not in self.gdict:\n",
        "      self.gdict[vrtx] = []\n",
        "\n",
        "#Create the dictionary with graph element\n",
        "#Buat kamus dengan elemen grafik\n",
        "graph_elements =  {\"a\" : [\"b\",\"c\"],\n",
        "                   \"b\" : [\"a\",\"d\"],\n",
        "                   \"c\" : [\"a\",\"d\"],\n",
        "                   \"d\" : [\"c\",\"b\",\"e\"],\n",
        "                   \"e\" : [\"d\"]\n",
        "                   }\n",
        "g = graph(graph_elements)\n",
        "g.addVertex(\"f\")\n",
        "\n",
        "print(g.getVertices())"
      ],
      "metadata": {
        "colab": {
          "base_uri": "https://localhost:8080/"
        },
        "id": "V9nQwLWg9B0X",
        "outputId": "c92c7294-01d0-4b14-c6e2-1e526dbdfe41"
      },
      "execution_count": null,
      "outputs": [
        {
          "output_type": "stream",
          "name": "stdout",
          "text": [
            "['a', 'b', 'c', 'd', 'e', 'f']\n"
          ]
        }
      ]
    },
    {
      "cell_type": "markdown",
      "source": [
        "**LATIHAN 1**"
      ],
      "metadata": {
        "id": "RXK3aU2_9eoo"
      }
    },
    {
      "cell_type": "code",
      "source": [
        "graph_elements = {\"T\" : [\"U\",\"W\"],\n",
        "                 \"U\" : [\"T\",\"V\"],\n",
        "                 \"V\" : [\"U\",\"X\"],\n",
        "                 \"W\" : [\"T\",\"X\",\"Z\"],\n",
        "                 \"X\" : [\"V\",\"W\",\"S\"],\n",
        "                 \"Z\" : [\"W\"],\n",
        "                 \"S\" : [\"X\"]\n",
        "                 }\n",
        "g = graph(graph_elements)\n",
        "g.addVertex(\"Q\")\n",
        "\n",
        "print(g.getVertices())"
      ],
      "metadata": {
        "colab": {
          "base_uri": "https://localhost:8080/"
        },
        "id": "snwZzZDS9h-M",
        "outputId": "7063a155-1069-4da7-84d1-8dfc82d1dfe3"
      },
      "execution_count": null,
      "outputs": [
        {
          "output_type": "stream",
          "name": "stdout",
          "text": [
            "['T', 'U', 'V', 'W', 'X', 'Z', 'S', 'Q']\n"
          ]
        }
      ]
    },
    {
      "cell_type": "markdown",
      "source": [
        "**LATIHAN 2**"
      ],
      "metadata": {
        "id": "gLsWDvhv9UrE"
      }
    },
    {
      "cell_type": "code",
      "source": [],
      "metadata": {
        "id": "wp_IJDF7F1hx"
      },
      "execution_count": null,
      "outputs": []
    },
    {
      "cell_type": "code",
      "source": [
        "graph_elements ={\"R\" : [\"O\",\"L\"],\n",
        "                 \"O\" : [\"R\",\"M\",\"P\"],\n",
        "                 \"M\" : [\"O\",\"N\"],\n",
        "                 \"L\" : [\"R\",\"P\"],\n",
        "                 \"P\" : [\"L\",\"O\",\"N\"],\n",
        "                 \"N\" : [\"M\",\"P\"]\n",
        "                 }\n",
        "g = graph(graph_elements)\n",
        "g.addVertex(\"Q\")\n",
        "\n",
        "print(g.getVertices())"
      ],
      "metadata": {
        "colab": {
          "base_uri": "https://localhost:8080/"
        },
        "id": "-VzmM8ms9WV9",
        "outputId": "0ab46265-433a-4491-949a-4d5b8e38b11b"
      },
      "execution_count": null,
      "outputs": [
        {
          "output_type": "stream",
          "name": "stdout",
          "text": [
            "['R', 'O', 'M', 'L', 'P', 'N', 'Q']\n"
          ]
        }
      ]
    },
    {
      "cell_type": "markdown",
      "source": [
        "**MENAMBAHKAN EDGE/SUDUT**"
      ],
      "metadata": {
        "id": "933KjIB6_Bol"
      }
    },
    {
      "cell_type": "code",
      "source": [
        "class graph:\n",
        "  def __init__(self,gdict=None):\n",
        "    if gdict is None:\n",
        "      gdict = {}\n",
        "    self.gdict = gdict\n",
        "\n",
        "  def edges(self):\n",
        "    return self.findedges()\n",
        "\n",
        "  def AddEdge(self, edge):\n",
        "    edge = set(edge)\n",
        "    (vrtx1, vrtx2) = tuple(edge)\n",
        "    if vrtx1 in self.gdict:\n",
        "      self.gdict[vrtx1].append(vrtx2)\n",
        "    else:\n",
        "      self.gdict[vrtx1] = [vrtx2]\n",
        "\n",
        "  def findedges(self):\n",
        "    edgename = []\n",
        "    for vrtx in self.gdict:\n",
        "      for nxtvrtx in self.gdict[vrtx]:\n",
        "        if {nxtvrtx, vrtx} not in edgename:\n",
        "          edgename.append({vrtx, nxtvrtx})\n",
        "    return edgename\n",
        "\n",
        "graph_elements =  {\"a\" : [\"b\",\"c\"],\n",
        "                   \"b\" : [\"a\",\"d\"],\n",
        "                   \"c\" : [\"a\",\"d\"],\n",
        "                   \"d\" : [\"c\",\"b\",\"e\"],\n",
        "                   \"e\" : [\"d\"]\n",
        "                   }\n",
        "\n",
        "g = graph(graph_elements)\n",
        "g.AddEdge({'a','e'})\n",
        "g.AddEdge({'a','c'})\n",
        "\n",
        "print(g.edges())"
      ],
      "metadata": {
        "colab": {
          "base_uri": "https://localhost:8080/"
        },
        "id": "sG-c4VQq_FoW",
        "outputId": "eb004bb3-4489-4170-fb23-c467876b7073"
      },
      "execution_count": null,
      "outputs": [
        {
          "output_type": "stream",
          "name": "stdout",
          "text": [
            "[{'a', 'b'}, {'a', 'c'}, {'a', 'e'}, {'b', 'd'}, {'c', 'd'}, {'d', 'e'}]\n"
          ]
        }
      ]
    },
    {
      "cell_type": "markdown",
      "source": [
        "**LATIHAN 1**"
      ],
      "metadata": {
        "id": "86JJW-hNCKoj"
      }
    },
    {
      "cell_type": "code",
      "source": [
        "#MENAMBAHKAN SUDUT T KE Z DAN T DAN S\n",
        "graph_elements = {\"T\" : [\"U\",\"W\"],\n",
        "                 \"U\" : [\"T\",\"V\"],\n",
        "                 \"V\" : [\"U\",\"X\"],\n",
        "                 \"W\" : [\"T\",\"X\",\"Z\"],\n",
        "                 \"X\" : [\"V\",\"W\",\"S\"],\n",
        "                 \"Z\" : [\"W\"],\n",
        "                 \"S\" : [\"X\"]\n",
        "                 }\n",
        "g = graph(graph_elements)\n",
        "g.AddEdge({'T','Z'})\n",
        "g.AddEdge({'T','S'})\n",
        "print(g.edges())"
      ],
      "metadata": {
        "colab": {
          "base_uri": "https://localhost:8080/"
        },
        "id": "RmoMBxR_CMHF",
        "outputId": "611d1e80-d2e8-4532-f7de-936627bffec0"
      },
      "execution_count": null,
      "outputs": [
        {
          "output_type": "stream",
          "name": "stdout",
          "text": [
            "[{'T', 'U'}, {'T', 'W'}, {'T', 'Z'}, {'T', 'S'}, {'V', 'U'}, {'X', 'V'}, {'X', 'W'}, {'Z', 'W'}, {'S', 'X'}]\n"
          ]
        }
      ]
    },
    {
      "cell_type": "markdown",
      "source": [
        "**LATIHAN 2**"
      ],
      "metadata": {
        "id": "-Qktown3DCb1"
      }
    },
    {
      "cell_type": "code",
      "source": [
        "#MENAMBAHKAN SUDUT R KE P DAN R DAN N\n",
        "graph_elements ={\"R\" : [\"O\",\"L\"],\n",
        "                 \"O\" : [\"R\",\"M\",\"P\"],\n",
        "                 \"M\" : [\"O\",\"N\"],\n",
        "                 \"L\" : [\"R\",\"P\"],\n",
        "                 \"P\" : [\"L\",\"O\",\"N\"],\n",
        "                 \"N\" : [\"M\",\"P\"]\n",
        "                 }\n",
        "g = graph(graph_elements)\n",
        "g.AddEdge({'R','P'})\n",
        "g.AddEdge({'R','N'})\n",
        "print(g.edges())"
      ],
      "metadata": {
        "colab": {
          "base_uri": "https://localhost:8080/"
        },
        "id": "qufq2NGDDD_2",
        "outputId": "b2cfd726-5595-4d87-da93-a6b748c56580"
      },
      "execution_count": null,
      "outputs": [
        {
          "output_type": "stream",
          "name": "stdout",
          "text": [
            "[{'R', 'O'}, {'R', 'L'}, {'R', 'P'}, {'R', 'N'}, {'O', 'M'}, {'O', 'P'}, {'M', 'N'}, {'P', 'L'}, {'P', 'N'}]\n"
          ]
        }
      ]
    }
  ]
}